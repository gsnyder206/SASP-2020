{
 "cells": [
  {
   "cell_type": "code",
   "execution_count": 1,
   "metadata": {},
   "outputs": [
    {
     "name": "stdout",
     "output_type": "stream",
     "text": [
      "3.2.1\n",
      "0.7.2\n"
     ]
    }
   ],
   "source": [
    "import astropy ; print(astropy.__version__)\n",
    "import photutils ; print(photutils.__version__)\n",
    "\n",
    "import matplotlib.pyplot as plt\n",
    "\n",
    "import tng_api_utils as tau\n",
    "\n",
    "import os\n",
    "import numpy as np"
   ]
  },
  {
   "cell_type": "code",
   "execution_count": 2,
   "metadata": {},
   "outputs": [],
   "source": [
    "# Probably need more stuff here"
   ]
  },
  {
   "cell_type": "markdown",
   "metadata": {},
   "source": [
    "Measure stuff from catalogs"
   ]
  },
  {
   "cell_type": "code",
   "execution_count": null,
   "metadata": {},
   "outputs": [],
   "source": []
  },
  {
   "cell_type": "code",
   "execution_count": null,
   "metadata": {},
   "outputs": [],
   "source": [
    "massive_primaries_im = mstar_tbl['source_sum'] >= (10.0**9.5)\n",
    "possible_secondaries_im = mstar_tbl['source_sum'] >= (10.0**7.5)\n",
    "print(np.sum(massive_primaries_im),np.sum(possible_secondaries_im))"
   ]
  },
  {
   "cell_type": "code",
   "execution_count": null,
   "metadata": {},
   "outputs": [],
   "source": [
    "massive_primaries_cat = sam_catalog['mstar'] >= (10.0**9.5)/(10.0**10.0)\n",
    "possible_secondaries_cat = sam_catalog['mstar'] >= (10.0**7.5)/(10.0**10.0)\n",
    "print(np.sum(massive_primaries_cat),np.sum(possible_secondaries_cat))"
   ]
  },
  {
   "cell_type": "code",
   "execution_count": null,
   "metadata": {},
   "outputs": [],
   "source": [
    "zi = sam_z[indices] >= 2.0\n",
    "print(sam_z[indices].shape,sam_z.shape,mstar_tbl['source_sum'].shape)\n",
    "mzi=np.logical_and(massive_primaries_im==True,zi==True)\n",
    "print(np.sum(mzi))"
   ]
  },
  {
   "cell_type": "code",
   "execution_count": null,
   "metadata": {},
   "outputs": [],
   "source": [
    "print(sam_catalog.colnames)\n",
    "print(mstar_tbl.colnames)\n",
    "print(input_skycoords.shape,sam_z.shape)"
   ]
  },
  {
   "cell_type": "code",
   "execution_count": null,
   "metadata": {},
   "outputs": [],
   "source": [
    "def count_pairs(pri_z,pri_m,pri_sc,sec_z,sec_m,sec_sc,pri_kpcas,d_kpc=50.0,zfrac=0.02,mfrac=0.1):\n",
    "    #print(pri_z,pri_m)\n",
    "    sep = pri_sc.separation(sec_sc)\n",
    "    sep_kpc = pri_kpcas*sep.to('arcsec').value\n",
    "    slist = np.logical_and(sep_kpc > 1.0, np.logical_and(np.logical_and(sep_kpc < d_kpc,np.abs(sec_z-pri_z)<zfrac*(1.0+pri_z)),sec_m/pri_m >= mfrac))\n",
    "    num_pairs=np.sum(slist)\n",
    "    return num_pairs, sep_kpc"
   ]
  },
  {
   "cell_type": "code",
   "execution_count": null,
   "metadata": {},
   "outputs": [],
   "source": [
    "zbins=((1.0,2.0),(2.0,2.5),(2.5,3.0),(3.0,4.0),(4.0,5.0),(5.0,6.0),(6.0,8.0))\n",
    "zpts =(1.5,2.25,2.75,3.5,4.5,5.5,7.0)\n",
    "fp_im=[]\n",
    "fp_cat=[]\n",
    "for zb in zbins:\n",
    "    zl=zb[0] ; zr=zb[1]\n",
    "    this_zi= np.logical_and(sam_z[indices]>=zl,sam_z[indices]<zr)\n",
    "    this_zi_c = np.logical_and(sam_z>=zl,sam_z<zr)\n",
    "    \n",
    "    this_pzi=np.logical_and(massive_primaries_im==True,this_zi==True)\n",
    "    this_szi=np.logical_and(possible_secondaries_im==True,this_zi==True)\n",
    "    \n",
    "    this_pzi_c=np.logical_and(massive_primaries_cat==True,this_zi_c==True)\n",
    "    this_szi_c=np.logical_and(possible_secondaries_cat==True,this_zi_c==True)\n",
    "    \n",
    "    pri_indices = np.where(this_pzi==True)[0]\n",
    "    sec_indices = np.where(this_szi==True)[0]\n",
    "    \n",
    "    pri_indices_c = np.where(this_pzi_c==True)[0]\n",
    "    sec_indices_c = np.where(this_szi_c==True)[0]\n",
    "        \n",
    "    pairs_this_z=0\n",
    "    pri_this_z=0\n",
    "    skl=[]\n",
    "    \n",
    "    for pi in pri_indices:\n",
    "        pri_m=mstar_tbl['source_sum'][pi]\n",
    "        pri_z=sam_z[indices][pi]\n",
    "        pri_sc=source_skycoords[pi]\n",
    "        pri_kpcas=sam_catalog['kpc_per_arcsec'][indices][pi]\n",
    "        sec_m=mstar_tbl['source_sum'][sec_indices]\n",
    "        sec_z=sam_z[indices][sec_indices]\n",
    "        sec_sc=source_skycoords[sec_indices]\n",
    "        npairs,sk = count_pairs(pri_z,pri_m,pri_sc,sec_z,sec_m,sec_sc,pri_kpcas)\n",
    "        pri_this_z+=1\n",
    "        pairs_this_z+=npairs\n",
    "        skl.append(sk)\n",
    "    #print(np.median(np.asarray(skl)),np.min(np.asarray(skl)))\n",
    "        \n",
    "    pairs_this_z_c=0\n",
    "    pri_this_z_c=0\n",
    "    for pi in pri_indices_c:\n",
    "        pri_m=sam_catalog['mstar'][pi]\n",
    "        pri_z=sam_z[pi]\n",
    "        pri_sc=input_skycoords[pi]\n",
    "        pri_kpcas=sam_catalog['kpc_per_arcsec'][pi]\n",
    "        sec_m=sam_catalog['mstar'][sec_indices_c]\n",
    "        sec_z=sam_z[sec_indices_c]\n",
    "        sec_sc=input_skycoords[sec_indices_c]\n",
    "        npairs,sk = count_pairs(pri_z,pri_m,pri_sc,sec_z,sec_m,sec_sc,pri_kpcas)\n",
    "        pri_this_z_c+=1\n",
    "        pairs_this_z_c+=npairs\n",
    "        skl.append(sk)\n",
    "    #print(np.median(np.asarray(skl)),np.min(np.asarray(skl)))        \n",
    "\n",
    "    if len(pri_indices) > 0:\n",
    "        print(zb,pri_this_z,pairs_this_z,pairs_this_z/pri_this_z, pairs_this_z_c/pri_this_z_c)\n",
    "        fp_im.append(pairs_this_z/pri_this_z)\n",
    "        fp_cat.append(pairs_this_z_c/pri_this_z_c)\n",
    "    else:\n",
    "        fp_im.append(0.0)\n",
    "        fp_cat.append(0.0)"
   ]
  },
  {
   "cell_type": "code",
   "execution_count": null,
   "metadata": {},
   "outputs": [],
   "source": [
    "fig, ((ax1)) = plt.subplots(1, 1, figsize=(12, 8),dpi=300)\n",
    "ax1.plot(zpts,fp_im,marker='o',linestyle='None',markersize=20,markerfacecolor='Black',mec='None')\n",
    "ax1.plot(zpts,fp_cat,marker='s',linestyle='None',markersize=20,markerfacecolor='Orange',mec='None')\n",
    "ax1.legend(('Image-Based', 'Catalog-Based'),loc='upper left',fontsize=20)\n",
    "ax1.set_xlabel('redshift',size=25)\n",
    "ax1.set_ylabel('Pair Fraction',size=25)\n",
    "ax1.set_ylim(0.0,1.60)\n",
    "ax1.tick_params(labelsize=25)\n",
    "fig.savefig('F356W/SAM_Pairs_Im_vs_Cat_Mass95.png',dpi=300)"
   ]
  },
  {
   "cell_type": "code",
   "execution_count": null,
   "metadata": {},
   "outputs": [],
   "source": [
    "ubins=((20.0,15.0),(15.0,10.0),(10.0,7.0),(7.0,4.0),(4.0,2.0),(2.0,1.0))\n",
    "upts =(20.0,15.0,10.0,7.0,4.0,2.0)\n",
    "fp_im=[]\n",
    "fp_cat=[]\n",
    "for ub in ubins:\n",
    "    ul=ub[0] ; ur=ub[1]\n",
    "    zl=3.0\n",
    "    zr=10.0\n",
    "    this_zi= np.logical_and(sam_z[indices]>=zl,sam_z[indices]<zr)\n",
    "    this_zi_c = np.logical_and(sam_z>=zl,sam_z<zr)\n",
    "    \n",
    "    this_pzi=np.logical_and(massive_primaries_im==True,this_zi==True)\n",
    "    this_szi=np.logical_and(possible_secondaries_im==True,this_zi==True)\n",
    "    \n",
    "    this_pzi_c=np.logical_and(massive_primaries_cat==True,this_zi_c==True)\n",
    "    this_szi_c=np.logical_and(possible_secondaries_cat==True,this_zi_c==True)\n",
    "    \n",
    "    pri_indices = np.where(this_pzi==True)[0]\n",
    "    sec_indices = np.where(this_szi==True)[0]\n",
    "    \n",
    "    pri_indices_c = np.where(this_pzi_c==True)[0]\n",
    "    sec_indices_c = np.where(this_szi_c==True)[0]\n",
    "        \n",
    "    pairs_this_z=0\n",
    "    pri_this_z=0\n",
    "    skl=[]\n",
    "    \n",
    "    for pi in pri_indices:\n",
    "        pri_m=mstar_tbl['source_sum'][pi]\n",
    "        pri_z=sam_z[indices][pi]\n",
    "        pri_sc=source_skycoords[pi]\n",
    "        pri_kpcas=sam_catalog['kpc_per_arcsec'][indices][pi]\n",
    "        sec_m=mstar_tbl['source_sum'][sec_indices]\n",
    "        sec_z=sam_z[indices][sec_indices]\n",
    "        sec_sc=source_skycoords[sec_indices]\n",
    "        npairs,sk = count_pairs(pri_z,pri_m,pri_sc,sec_z,sec_m,sec_sc,pri_kpcas,mfrac=1.0/ul)\n",
    "        pri_this_z+=1\n",
    "        pairs_this_z+=npairs\n",
    "        skl.append(sk)\n",
    "    #print(np.median(np.asarray(skl)),np.min(np.asarray(skl)))\n",
    "        \n",
    "    pairs_this_z_c=0\n",
    "    pri_this_z_c=0\n",
    "    for pi in pri_indices_c:\n",
    "        pri_m=sam_catalog['mstar'][pi]\n",
    "        pri_z=sam_z[pi]\n",
    "        pri_sc=input_skycoords[pi]\n",
    "        pri_kpcas=sam_catalog['kpc_per_arcsec'][pi]\n",
    "        sec_m=sam_catalog['mstar'][sec_indices_c]\n",
    "        sec_z=sam_z[sec_indices_c]\n",
    "        sec_sc=input_skycoords[sec_indices_c]\n",
    "        npairs,sk = count_pairs(pri_z,pri_m,pri_sc,sec_z,sec_m,sec_sc,pri_kpcas,mfrac=1.0/ul)\n",
    "        pri_this_z_c+=1\n",
    "        pairs_this_z_c+=npairs\n",
    "        skl.append(sk)\n",
    "    #print(np.median(np.asarray(skl)),np.min(np.asarray(skl)))        \n",
    "\n",
    "    if len(pri_indices) > 0:\n",
    "        print(zb,pri_this_z,pairs_this_z,pairs_this_z/pri_this_z, pairs_this_z_c/pri_this_z_c)\n",
    "        fp_im.append(pairs_this_z/pri_this_z)\n",
    "        fp_cat.append(pairs_this_z_c/pri_this_z_c)\n",
    "    else:\n",
    "        fp_im.append(0.0)\n",
    "        fp_cat.append(0.0)"
   ]
  },
  {
   "cell_type": "code",
   "execution_count": null,
   "metadata": {},
   "outputs": [],
   "source": [
    "from matplotlib.ticker import (MultipleLocator, FormatStrFormatter,\n",
    "                               AutoMinorLocator)\n",
    "\n",
    "fig, ((ax1)) = plt.subplots(1, 1, figsize=(12, 8),dpi=300)\n",
    "ax1.loglog(upts,fp_im,marker='o',linestyle='None',markersize=20,markerfacecolor='Black',mec='None')\n",
    "ax1.loglog(upts,fp_cat,marker='s',linestyle='None',markersize=20,markerfacecolor='Orange',mec='None')\n",
    "ax1.legend(('Image-Based', 'Catalog-Based'),loc='upper left',fontsize=20)\n",
    "ax1.set_xlabel(r'$M_1/M_2$',size=25)\n",
    "ax1.set_ylabel('Pair Fraction',size=25)\n",
    "ax1.set_ylim(0.05,2.0)\n",
    "ax1.set_xlim(25.0,1.7)\n",
    "ax1.set_xticks(upts)\n",
    "ax1.set_xticklabels([20,15,10,7,4,2])\n",
    "ax1.yaxis.set_major_formatter(FormatStrFormatter('%4.1f'))\n",
    "ax1.tick_params(labelsize=25)\n",
    "ax1.tick_params(which='minor',bottom=False)\n",
    "fig.savefig('F356W/SAM_Ratios_Im_vs_Cat_Mass95_z3_29.png',dpi=300)"
   ]
  },
  {
   "cell_type": "code",
   "execution_count": null,
   "metadata": {},
   "outputs": [],
   "source": []
  }
 ],
 "metadata": {
  "kernelspec": {
   "display_name": "Python 3",
   "language": "python",
   "name": "python3"
  },
  "language_info": {
   "codemirror_mode": {
    "name": "ipython",
    "version": 3
   },
   "file_extension": ".py",
   "mimetype": "text/x-python",
   "name": "python",
   "nbconvert_exporter": "python",
   "pygments_lexer": "ipython3",
   "version": "3.7.3"
  }
 },
 "nbformat": 4,
 "nbformat_minor": 2
}
